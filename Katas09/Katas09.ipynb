{
 "cells": [
  {
   "cell_type": "markdown",
   "source": [
    "# Ejercicio 1"
   ],
   "metadata": {}
  },
  {
   "cell_type": "code",
   "execution_count": 10,
   "source": [
    "def lectura_gas(tanque01, tanque02, tanque03):\n",
    "    promedio = (tanque01 + tanque02 + tanque03) / 3\n",
    "    \n",
    "    return f\"\"\"Lectura de combustible: \n",
    "    Tanque 1: {tanque01} \n",
    "    Tanque 2: {tanque02}\n",
    "    Tanque 3: {tanque03}\n",
    "    Promedio total de combustible: {promedio}\"\"\"\n"
   ],
   "outputs": [],
   "metadata": {}
  },
  {
   "cell_type": "code",
   "execution_count": 11,
   "source": [
    "print(lectura_gas(10,20,30))"
   ],
   "outputs": [
    {
     "output_type": "stream",
     "name": "stdout",
     "text": [
      "Lectura de combustible: \n",
      "    Tanque 1: 10 \n",
      "    Tanque 2: 20\n",
      "    Tanque 3: 30\n",
      "    Promedio total de combustible: 20.0\n"
     ]
    }
   ],
   "metadata": {}
  },
  {
   "cell_type": "code",
   "execution_count": 22,
   "source": [
    "def promedio_ind(valores):\n",
    "    sum_total = sum(valores)\n",
    "    num_valores = len(valores)\n",
    "    return sum_total / num_valores\n",
    "  "
   ],
   "outputs": [],
   "metadata": {}
  },
  {
   "cell_type": "code",
   "execution_count": 21,
   "source": [
    "def lectura_gas(tanque01, tanque02, tanque03):\n",
    "    \n",
    "    return f\"\"\"Lectura de combustible: \n",
    "    Tanque 1: {tanque01} \n",
    "    Tanque 2: {tanque02}\n",
    "    Tanque 3: {tanque03}\n",
    "    Promedio total de combustible: {promedio_ind([tanque01, tanque02, tanque03])}\"\"\"\n",
    "\n",
    "print(lectura_gas(15,20,30))"
   ],
   "outputs": [
    {
     "output_type": "stream",
     "name": "stdout",
     "text": [
      "Lectura de combustible: \n",
      "    Tanque 1: 15 \n",
      "    Tanque 2: 20\n",
      "    Tanque 3: 30\n",
      "    Promedio total de combustible: 21.666666666666668\n"
     ]
    }
   ],
   "metadata": {}
  },
  {
   "cell_type": "markdown",
   "source": [
    "# Ejercicio 2"
   ],
   "metadata": {}
  },
  {
   "cell_type": "code",
   "execution_count": 26,
   "source": [
    "def informe_mision(prelanzamiento,tiemp_vuelo,destino,tanq_ext,tanq_int):\n",
    "    return f\"\"\" Reporte de la misión: \n",
    "    tiempo de prelanzamiento: {prelanzamiento}\n",
    "    Tiempo de vuelo: {tiemp_vuelo}\n",
    "    Tiempo total de vuelo {prelanzamiento + tiemp_vuelo} min\n",
    "    Destino: {destino}\n",
    "    Tanque extreno: {tanq_ext}\n",
    "    Tanque interno: {tanq_int}\n",
    "    Total de combustible: {tanq_ext + tanq_int} lts\n",
    "    \"\"\"\n",
    "\n",
    "print(informe_mision(10,20,\"Marte\",1000,2000))"
   ],
   "outputs": [
    {
     "output_type": "stream",
     "name": "stdout",
     "text": [
      " Reporte de la misión: \n",
      "    tiempo de prelanzamiento: 10\n",
      "    Tiempo de vuelo: 20\n",
      "    Tiempo total de vuelo 30 min\n",
      "    Destino: Marte\n",
      "    Tanque extreno: 1000\n",
      "    Tanque interno: 2000\n",
      "    Total de combustible: 3000 lts\n",
      "    \n"
     ]
    }
   ],
   "metadata": {}
  },
  {
   "cell_type": "code",
   "execution_count": 42,
   "source": [
    "# *minutos, **reserva_gas\n",
    "def informe_mision(destino, *minutos, **reserva_gas):\n",
    "    \n",
    "    return f\"\"\"\n",
    "    Reporte de la misión: \n",
    "    Tiempo total de vuelo {sum(minutos)} min\n",
    "    Destino: {destino}\n",
    "    Total de combustible: {sum(reserva_gas.values())} lts\n",
    "    \"\"\"\n",
    "\n",
    "print(informe_mision(\"Marte\", 10, 20, interno=30000, externo=20000))"
   ],
   "outputs": [
    {
     "output_type": "stream",
     "name": "stdout",
     "text": [
      "\n",
      "    Reporte de la misión: \n",
      "    Tiempo total de vuelo 30 min\n",
      "    Destino: Marte\n",
      "    Total de combustible: 50000 lts\n",
      "    \n"
     ]
    }
   ],
   "metadata": {}
  },
  {
   "cell_type": "code",
   "execution_count": 41,
   "source": [
    "def informe_mision(destino, *minutos, **reserva_gas):\n",
    "    \n",
    "    menu_reporte =f\"\"\"\n",
    "    Reporte de la misión: \n",
    "    Tiempo total de vuelo {sum(minutos)} min\n",
    "    Destino: {destino}\n",
    "    Total de combustible: {sum(reserva_gas.values())} lts\n",
    "    \"\"\"\n",
    "    for nombre_tanque, litros in reserva_gas.items():\n",
    "        menu_reporte += f\"{nombre_tanque} tanque --> {litros} litros en izquierda \\n\"\n",
    "    return menu_reporte\n",
    "\n",
    "print(informe_mision(\"Marte\", 10, 20, interno=30000, externo=20000))"
   ],
   "outputs": [
    {
     "output_type": "stream",
     "name": "stdout",
     "text": [
      "\n",
      "    Reporte de la misión: \n",
      "    Tiempo total de vuelo 30 min\n",
      "    Destino: Marte\n",
      "    Total de combustible: 50000 lts\n",
      "    interno tanque --> 30000 litros en izquierda \n",
      "externo tanque --> 20000 litros en izquierda \n",
      "\n"
     ]
    }
   ],
   "metadata": {}
  }
 ],
 "metadata": {
  "orig_nbformat": 4,
  "language_info": {
   "name": "python",
   "version": "3.10.2",
   "mimetype": "text/x-python",
   "codemirror_mode": {
    "name": "ipython",
    "version": 3
   },
   "pygments_lexer": "ipython3",
   "nbconvert_exporter": "python",
   "file_extension": ".py"
  },
  "kernelspec": {
   "name": "python3",
   "display_name": "Python 3.10.2 64-bit"
  },
  "interpreter": {
   "hash": "aee8b7b246df8f9039afb4144a1f6fd8d2ca17a180786b69acc140d282b71a49"
  }
 },
 "nbformat": 4,
 "nbformat_minor": 2
}