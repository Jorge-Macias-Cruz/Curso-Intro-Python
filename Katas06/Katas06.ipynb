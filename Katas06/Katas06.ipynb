{
 "cells": [
  {
   "cell_type": "markdown",
   "source": [
    "# Ejercicio 1\n",
    "lista con nombres de planetas"
   ],
   "metadata": {}
  },
  {
   "cell_type": "code",
   "execution_count": 13,
   "source": [
    "planets =['Mercurio', 'Venus', 'Tierra', 'Marte' , 'Jupiter', 'Saturno', 'Urano', 'Neptuno']\n",
    "\n",
    "numeroPlanetas = len(planets)\n",
    "print('El número de planetas es: ', numeroPlanetas)\n",
    "print(planets)"
   ],
   "outputs": [
    {
     "output_type": "stream",
     "name": "stdout",
     "text": [
      "El número de planetas es:  8\n",
      "['Mercurio', 'Venus', 'Tierra', 'Marte', 'Jupiter', 'Saturno', 'Urano', 'Neptuno']\n"
     ]
    }
   ],
   "metadata": {}
  },
  {
   "cell_type": "code",
   "execution_count": 14,
   "source": [
    "planets.append('Plutón')\n",
    "\n",
    "numeroPlanetas = len(planets)\n",
    "print('El número de planetas ahora es: ', numeroPlanetas, ' y el último planeta es: ', planets[-1])"
   ],
   "outputs": [
    {
     "output_type": "stream",
     "name": "stdout",
     "text": [
      "El número de planetas ahora es:  9  y el último planeta es:  Plutón\n"
     ]
    }
   ],
   "metadata": {}
  },
  {
   "cell_type": "markdown",
   "source": [
    "# Ejercicio 2\n"
   ],
   "metadata": {}
  },
  {
   "cell_type": "code",
   "execution_count": 15,
   "source": [
    "planetas =['Mercurio', 'Venus', 'Tierra', 'Marte' , 'Jupiter', 'Saturno', 'Urano', 'Neptuno']\n"
   ],
   "outputs": [],
   "metadata": {}
  },
  {
   "cell_type": "code",
   "execution_count": 42,
   "source": [
    "nombrePlanetaUsuario = input('Escribe el nombre del planeta empezando con mayúscula: ')"
   ],
   "outputs": [],
   "metadata": {}
  },
  {
   "cell_type": "code",
   "execution_count": 43,
   "source": [
    "planeta_index = planetas.index(nombrePlanetaUsuario)\n",
    "print(planeta_index)"
   ],
   "outputs": [
    {
     "output_type": "stream",
     "name": "stdout",
     "text": [
      "2\n"
     ]
    }
   ],
   "metadata": {}
  },
  {
   "cell_type": "code",
   "execution_count": 44,
   "source": [
    "print ('Los planetas más cercanos a: ' + nombrePlanetaUsuario )\n",
    "print(planets[0: planeta_index])"
   ],
   "outputs": [
    {
     "output_type": "stream",
     "name": "stdout",
     "text": [
      "Los planetas más cercanos a: Tierra\n",
      "['Mercurio', 'Venus']\n"
     ]
    }
   ],
   "metadata": {}
  },
  {
   "cell_type": "code",
   "execution_count": 45,
   "source": [
    "print('Los planetas más alejados de: ' + nombrePlanetaUsuario)\n",
    "print(planets[planeta_index +1 : ])"
   ],
   "outputs": [
    {
     "output_type": "stream",
     "name": "stdout",
     "text": [
      "Los planetas más alejados de: Tierra\n",
      "['Marte', 'Jupiter', 'Saturno', 'Urano', 'Neptuno', 'Plutón']\n"
     ]
    }
   ],
   "metadata": {}
  }
 ],
 "metadata": {
  "orig_nbformat": 4,
  "language_info": {
   "name": "python",
   "version": "3.10.2",
   "mimetype": "text/x-python",
   "codemirror_mode": {
    "name": "ipython",
    "version": 3
   },
   "pygments_lexer": "ipython3",
   "nbconvert_exporter": "python",
   "file_extension": ".py"
  },
  "kernelspec": {
   "name": "python3",
   "display_name": "Python 3.10.2 64-bit"
  },
  "interpreter": {
   "hash": "aee8b7b246df8f9039afb4144a1f6fd8d2ca17a180786b69acc140d282b71a49"
  }
 },
 "nbformat": 4,
 "nbformat_minor": 2
}