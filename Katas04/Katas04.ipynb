{
 "cells": [
  {
   "cell_type": "markdown",
   "source": [
    "# Ejercicio 1\n",
    "Transformar cadenas"
   ],
   "metadata": {}
  },
  {
   "cell_type": "code",
   "execution_count": 29,
   "source": [
    "text = \"\"\"Interesting facts about the Moon. \n",
    "The Moon is Earth's only satellite. \n",
    "There are several interesting facts about the Moon and how it affects life here on Earth. \n",
    "On average, the Moon moves 4cm away from the Earth every year. \n",
    "This yearly drift is not significant enough to cause immediate effects on E\"\"\"\n",
    "\n",
    "print(text)"
   ],
   "outputs": [
    {
     "output_type": "stream",
     "name": "stdout",
     "text": [
      "Interesting facts about the Moon. \n",
      "The Moon is Earth's only satellite. \n",
      "There are several interesting facts about the Moon and how it affects life here on Earth. \n",
      "On average, the Moon moves 4cm away from the Earth every year. \n",
      "This yearly drift is not significant enough to cause immediate effects on E\n"
     ]
    }
   ],
   "metadata": {}
  },
  {
   "cell_type": "code",
   "execution_count": 23,
   "source": [
    "palabrasClave = ['average', 'temperature', 'distance']"
   ],
   "outputs": [],
   "metadata": {}
  },
  {
   "cell_type": "code",
   "execution_count": 31,
   "source": [
    "for recorrer in text:\n",
    "    for palabClave in palabrasClave:\n",
    "        if palabClave in recorrer:\n",
    "            print(recorrer)\n",
    "            break"
   ],
   "outputs": [],
   "metadata": {}
  },
  {
   "cell_type": "code",
   "execution_count": 32,
   "source": [
    "for recorrer in text:\n",
    "    for palabClave in palabrasClave:\n",
    "        if palabClave in recorrer:\n",
    "            print(recorrer.replace('C', 'Celsius'))\n",
    "            break"
   ],
   "outputs": [],
   "metadata": {}
  },
  {
   "cell_type": "markdown",
   "source": [
    "## Ejercicio 2\n",
    "formateando cadenas"
   ],
   "metadata": {}
  },
  {
   "cell_type": "code",
   "execution_count": 33,
   "source": [
    "# Datos\n",
    "name = \"Moon\"\n",
    "gravity = 0.00162 # in kms\n",
    "planet = \"Earth\""
   ],
   "outputs": [],
   "metadata": {}
  },
  {
   "cell_type": "code",
   "execution_count": 36,
   "source": [
    "titulo = f'Datos de la gravedad de la: {planet} y la: {name} '\n",
    "\n",
    "print (titulo)"
   ],
   "outputs": [
    {
     "output_type": "stream",
     "name": "stdout",
     "text": [
      "Datos de la gravedad de la: Earth y la: Moon \n"
     ]
    }
   ],
   "metadata": {}
  },
  {
   "cell_type": "code",
   "execution_count": 40,
   "source": [
    "texto = f\"\"\" {'-' * 70}\n",
    "Planeta: {planet} \n",
    "Gravedad de {name}: {gravity * 1000} m/s2\n",
    "\"\"\"\n",
    "print (texto)"
   ],
   "outputs": [
    {
     "output_type": "stream",
     "name": "stdout",
     "text": [
      " ----------------------------------------------------------------------\n",
      "Planeta: Earth \n",
      "Gravedad de Moon: 1.6199999999999999 m/s2\n",
      "\n"
     ]
    }
   ],
   "metadata": {}
  },
  {
   "cell_type": "code",
   "execution_count": 46,
   "source": [
    "plantilla = f\"\"\" {titulo.title()}\n",
    "{texto}\"\"\"\n",
    "\n",
    "print(plantilla)"
   ],
   "outputs": [
    {
     "output_type": "stream",
     "name": "stdout",
     "text": [
      " Datos De La Gravedad De La: Earth Y La: Moon \n",
      " ----------------------------------------------------------------------\n",
      "Planeta: Earth \n",
      "Gravedad de Moon: 1.6199999999999999 m/s2\n",
      "\n"
     ]
    }
   ],
   "metadata": {}
  },
  {
   "cell_type": "code",
   "execution_count": 47,
   "source": [
    "# Datos nuevos\n",
    "name = \"Ganímedes\"\n",
    "gravity = 0.00143 # in kms\n",
    "planet = \"Marte\""
   ],
   "outputs": [],
   "metadata": {}
  },
  {
   "cell_type": "code",
   "execution_count": 49,
   "source": [
    "print(plantilla)"
   ],
   "outputs": [
    {
     "output_type": "stream",
     "name": "stdout",
     "text": [
      " Datos De La Gravedad De La: Earth Y La: Moon \n",
      " ----------------------------------------------------------------------\n",
      "Planeta: Earth \n",
      "Gravedad de Moon: 1.6199999999999999 m/s2\n",
      "\n"
     ]
    }
   ],
   "metadata": {}
  },
  {
   "cell_type": "code",
   "execution_count": 52,
   "source": [
    "nuevaPlantilla = \"\"\"\n",
    "Datos De La Gravedad De La: {planet} Y La: {name}\n",
    " ----------------------------------------------------------------------\n",
    "Planeta: {planet} \n",
    "Gravedad de {name}: {gravity} m/s2 \"\"\"\n",
    "\n",
    "print (nuevaPlantilla.format(planet=planet, name=name, gravity=gravity * 1000))"
   ],
   "outputs": [
    {
     "output_type": "stream",
     "name": "stdout",
     "text": [
      "\n",
      "Datos De La Gravedad De La: Marte Y La: Ganímedes\n",
      " ----------------------------------------------------------------------\n",
      "Planeta: Marte \n",
      "Gravedad de Ganímedes: 1.4300000000000002 m/s2 \n"
     ]
    }
   ],
   "metadata": {}
  },
  {
   "cell_type": "code",
   "execution_count": 53,
   "source": [
    "print(nuevaPlantilla.format(planet=planet, gravity=gravity*1000, name=name))"
   ],
   "outputs": [
    {
     "output_type": "stream",
     "name": "stdout",
     "text": [
      "\n",
      "Datos De La Gravedad De La: Marte Y La: Ganímedes\n",
      " ----------------------------------------------------------------------\n",
      "Planeta: Marte \n",
      "Gravedad de Ganímedes: 1.4300000000000002 m/s2 \n"
     ]
    }
   ],
   "metadata": {}
  }
 ],
 "metadata": {
  "orig_nbformat": 4,
  "language_info": {
   "name": "python",
   "version": "3.10.2",
   "mimetype": "text/x-python",
   "codemirror_mode": {
    "name": "ipython",
    "version": 3
   },
   "pygments_lexer": "ipython3",
   "nbconvert_exporter": "python",
   "file_extension": ".py"
  },
  "kernelspec": {
   "name": "python3",
   "display_name": "Python 3.10.2 64-bit"
  },
  "interpreter": {
   "hash": "aee8b7b246df8f9039afb4144a1f6fd8d2ca17a180786b69acc140d282b71a49"
  }
 },
 "nbformat": 4,
 "nbformat_minor": 2
}