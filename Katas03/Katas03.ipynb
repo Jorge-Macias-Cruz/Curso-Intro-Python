{
 "cells": [
  {
   "cell_type": "markdown",
   "source": [
    "# Ejercicio - Escriibir declaraciones if, else, y elif\n",
    "# Ejercicio 1"
   ],
   "metadata": {}
  },
  {
   "cell_type": "code",
   "execution_count": 25,
   "source": [
    "velAsteroride = 49\n",
    "limVelocidad = 25\n",
    "\n",
    "if  velAsteroride > limVelocidad:\n",
    "    print (\"¡Un asteroirde se acerca ala tierra demasiado rápido!\")\n",
    "else:\n",
    "    print (\"Todo en orden :)\")\n",
    "\n",
    "\n"
   ],
   "outputs": [
    {
     "output_type": "stream",
     "name": "stdout",
     "text": [
      "¡Un asteroirde se acerca ala tierra demasiado rápido!\n"
     ]
    }
   ],
   "metadata": {}
  },
  {
   "cell_type": "markdown",
   "source": [
    "# Ejercicio 2"
   ],
   "metadata": {}
  },
  {
   "cell_type": "code",
   "execution_count": 26,
   "source": [
    "asterioideVel = 20\n",
    "\n",
    "if asterioideVel > 20:\n",
    "    print(\"Hay un rayo de luz en el cielo\")\n",
    "elif asterioideVel == 20:\n",
    "    print(\"Hay que buscar un asteroide en el cielo\")\n",
    "else:\n",
    "    print(\"Todo bajo control :)\")\n"
   ],
   "outputs": [
    {
     "output_type": "stream",
     "name": "stdout",
     "text": [
      "Hay que buscar un asteroide en el cielo\n"
     ]
    }
   ],
   "metadata": {}
  },
  {
   "cell_type": "markdown",
   "source": [
    "# Ejercicio: Uso de operadores and y or\n",
    "# Ejercicio 3"
   ],
   "metadata": {}
  },
  {
   "cell_type": "code",
   "execution_count": 30,
   "source": [
    "velAsteroride = 30\n",
    "tamAsteroide = 30\n",
    "\n",
    "if  velAsteroride > 25 and tamAsteroide > 25:\n",
    "    print (\"¡Un asteroirde se acerca ala tierra demasiado rápido! a una velocidad de: \", velAsteroride, \"Km/s, \"\n",
    "            \"Con un tamaño de: \", tamAsteroide, \"Km\")\n",
    "elif velAsteroride >= 20:\n",
    "    print (\"Hay un rayo de luz en el cielo\")\n",
    "elif tamAsteroide < 25:\n",
    "    print (\"Todo en orden\")\n",
    "\n",
    "else:\n",
    "    print (\"Todo en orden :)\")\n",
    "\n"
   ],
   "outputs": [
    {
     "output_type": "stream",
     "name": "stdout",
     "text": [
      "¡Un asteroirde se acerca ala tierra demasiado rápido! a una velocidad de:  30 Km/s, Con un tamaño de:  30 Km\n"
     ]
    }
   ],
   "metadata": {}
  }
 ],
 "metadata": {
  "orig_nbformat": 4,
  "language_info": {
   "name": "python",
   "version": "3.10.2",
   "mimetype": "text/x-python",
   "codemirror_mode": {
    "name": "ipython",
    "version": 3
   },
   "pygments_lexer": "ipython3",
   "nbconvert_exporter": "python",
   "file_extension": ".py"
  },
  "kernelspec": {
   "name": "python3",
   "display_name": "Python 3.10.2 64-bit"
  },
  "interpreter": {
   "hash": "aee8b7b246df8f9039afb4144a1f6fd8d2ca17a180786b69acc140d282b71a49"
  }
 },
 "nbformat": 4,
 "nbformat_minor": 2
}